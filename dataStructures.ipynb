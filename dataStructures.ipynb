{
 "cells": [
  {
   "cell_type": "markdown",
   "metadata": {},
   "source": [
    "# Data Structures"
   ]
  },
  {
   "cell_type": "markdown",
   "metadata": {},
   "source": [
    "## Linked Lists"
   ]
  },
  {
   "cell_type": "code",
   "execution_count": 1,
   "metadata": {},
   "outputs": [],
   "source": [
    "# Linked list\n",
    "\n",
    "class Element():\n",
    "    def __init__(self, data):\n",
    "        self.data = data\n",
    "        self.next = None\n",
    "\n",
    "class LinkedList():\n",
    "    def __init__(self):\n",
    "        self.head = None\n",
    "    \n",
    "    def append(self, new_element):\n",
    "        if self.head:\n",
    "            current = self.head            \n",
    "            while current.next:\n",
    "                current = current.next\n",
    "            current.next = new_element\n",
    "        else:\n",
    "            self.head = new_element\n",
    "\n",
    "    def visualise(self):\n",
    "        \"\"\"Visualises linked list\"\"\"\n",
    "        \n",
    "        if self.head:\n",
    "            current = self.head\n",
    "            lst = [current.data]\n",
    "            while current.next:\n",
    "                current = current.next\n",
    "                lst.append(current.data)\n",
    "            print(lst)\n",
    "        else:\n",
    "            print('Linked list is empty!')\n",
    "            \n",
    "    def delete(self, element_data):\n",
    "        \"\"\"Deletes an element from Linked List defined by its data\"\"\"\n",
    "\n",
    "        if element_data == self.head.data:\n",
    "            self.head = self.head.next\n",
    "        else:\n",
    "            current = self.head\n",
    "            while current.next:\n",
    "                if current.next.data == element_data:\n",
    "                    current.next = current.next.next\n",
    "                else:\n",
    "                    current = current.next\n",
    "                    "
   ]
  },
  {
   "cell_type": "code",
   "execution_count": 2,
   "metadata": {},
   "outputs": [
    {
     "name": "stdout",
     "output_type": "stream",
     "text": [
      "[1, 2]\n",
      "[1, 2, 4]\n"
     ]
    }
   ],
   "source": [
    "# Creating elements\n",
    "e1 = Element(1)\n",
    "e2 = Element(2)\n",
    "e3 = Element(3)\n",
    "e4 = Element(4)\n",
    "# Creating linked list\n",
    "ll = LinkedList()\n",
    "# Appending\n",
    "ll.append(e1)\n",
    "ll.append(e2)\n",
    "ll.visualise()\n",
    "# Deleting\n",
    "ll.append(e3)\n",
    "ll.append(e4)\n",
    "ll.delete(3)\n",
    "ll.visualise()\n"
   ]
  },
  {
   "cell_type": "markdown",
   "metadata": {},
   "source": [
    "## Trees"
   ]
  },
  {
   "cell_type": "code",
   "execution_count": 15,
   "metadata": {},
   "outputs": [],
   "source": [
    "class Node():\n",
    "    def __init__(self, value):\n",
    "        self.value = value\n",
    "        self.left = None\n",
    "        self.right = None\n",
    "\n",
    "class BinaryTree():\n",
    "    def __init__(self, root):\n",
    "        self.root = Node(root)\n",
    "\n",
    "    def search(self, find_val):\n",
    "        \"\"\"Return True if the value\n",
    "        is in the tree, return\n",
    "        False otherwise.\"\"\"\n",
    "        return self.preorder_search(self.root, find_val)\n",
    "            \n",
    "\n",
    "    def print_tree(self):\n",
    "        \"\"\"Print out all tree nodes\n",
    "        as they are visited in\n",
    "        a pre-order traversal.\"\"\"\n",
    "        traversal = self.preorder_print(self.root, \"\")\n",
    "        return '-'.join(char for char in traversal)\n",
    "    \n",
    "    def preorder_search(self, start, find_val):\n",
    "        \"\"\"Helper method - use this to create a \n",
    "        recursive search solution.\"\"\"\n",
    "        currentNode = start\n",
    "        if currentNode.left == None and currentNode.right == None:\n",
    "            return currentNode.value == find_val\n",
    "        else:\n",
    "            isLeft, isRight = False, False\n",
    "            if currentNode.left != None:\n",
    "                isLeft = self.preorder_search(currentNode.left, find_val)\n",
    "            if currentNode.right != None:\n",
    "                isRight = self.preorder_search(currentNode.right, find_val)\n",
    "            return currentNode.value == find_val or isLeft or isRight\n",
    "\n",
    "    def preorder_print(self, start, traversal):\n",
    "        \"\"\"Helper method - use this to create a \n",
    "        recursive print solution.\"\"\"\n",
    "        # traversal is a string, returns string\n",
    "        if start.left == None and start.right == None:\n",
    "            return str(start.value)\n",
    "        else:\n",
    "            traversal += str(start.value)\n",
    "            traversalLeft, traversalRight = \"\", \"\"\n",
    "            if start.left != None:\n",
    "                traversalLeft = self.preorder_print(start.left, traversal)\n",
    "            if start.right != None:\n",
    "                traversalRight = self.preorder_print(start.right, traversal)\n",
    "        return str(start.value) + traversalLeft + traversalRight\n",
    "    \n",
    "\n",
    "\n",
    "# BUGGY VERSION --- UNDERSTAND WHY\n",
    "#\n",
    "#    def preorder_print(self, start, traversal):\n",
    "#        # Helper method - use this to create a recursive print solution.\n",
    "#        # traversal is a string, returns string\n",
    "#        if start.left == None and start.right == None:\n",
    "#            return str(start.value)\n",
    "#        else:\n",
    "#            traversal += str(start.value)\n",
    "#            if start.left != None:\n",
    "#                traversal += self.preorder_print(start.left, traversal)\n",
    "#            if start.right != None:\n",
    "#                traversal += self.preorder_print(start.right, traversal)\n",
    "#        return traversal\n"
   ]
  },
  {
   "cell_type": "code",
   "execution_count": 12,
   "metadata": {},
   "outputs": [
    {
     "name": "stdout",
     "output_type": "stream",
     "text": [
      "True\n",
      "True\n",
      "1-2-4-5-3-6\n"
     ]
    }
   ],
   "source": [
    "# Set up tree\n",
    "tree = BinaryTree(1)\n",
    "tree.root.left = Node(2)\n",
    "tree.root.right = Node(3)\n",
    "tree.root.left.left = Node(4)\n",
    "tree.root.left.right = Node(5)\n",
    "tree.root.right.left = Node(6)\n",
    "\n",
    "# Test search\n",
    "print(tree.search(4)) # Should be True\n",
    "print(tree.search(6)) # Should be False\n",
    "\n",
    "# Test print_tree\n",
    "print(tree.print_tree()) # Should be 1-2-4-5-3-6"
   ]
  },
  {
   "cell_type": "markdown",
   "metadata": {},
   "source": [
    "### Fun challenge\n",
    "\n",
    "Consider the mapping:\n",
    "```\n",
    "'a' = 1\n",
    "'b' = 2\n",
    "'c' = 3\n",
    "...\n",
    "'z' = 26\n",
    "```\n",
    "such that\n",
    "```\n",
    "'ab' = 12\n",
    "``` \n",
    "for example.\n",
    "\n",
    "Write a function `num_ways()` what calculates how many ways a number can be decoded into its original charater(s)."
   ]
  },
  {
   "cell_type": "code",
   "execution_count": 29,
   "metadata": {},
   "outputs": [
    {
     "name": "stdout",
     "output_type": "stream",
     "text": [
      "{'0': None, '1': 'a', '2': 'b', '3': 'c', '4': 'd', '5': 'e', '6': 'f', '7': 'g', '8': 'h', '9': 'i', '10': 'j', '11': 'k', '12': 'l', '13': 'm', '14': 'n', '15': 'o', '16': 'p', '17': 'q', '18': 'r', '19': 's', '20': 't', '21': 'u', '22': 'v', '23': 'w', '24': 'x', '25': 'y', '26': 'z'}\n"
     ]
    }
   ],
   "source": [
    "# Construct dictionary\n",
    "dictionary = dict()\n",
    "dictionary['0'] = None\n",
    "for i in range(1, 27):\n",
    "    dictionary[str(i)] = chr(i+96)\n",
    "    \n",
    "print(dictionary)"
   ]
  }
 ],
 "metadata": {
  "kernelspec": {
   "display_name": "Python 3",
   "language": "python",
   "name": "python3"
  },
  "language_info": {
   "codemirror_mode": {
    "name": "ipython",
    "version": 3
   },
   "file_extension": ".py",
   "mimetype": "text/x-python",
   "name": "python",
   "nbconvert_exporter": "python",
   "pygments_lexer": "ipython3",
   "version": "3.7.0"
  }
 },
 "nbformat": 4,
 "nbformat_minor": 2
}
