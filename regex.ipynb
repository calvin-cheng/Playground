{
 "cells": [
  {
   "cell_type": "code",
   "execution_count": 1,
   "metadata": {},
   "outputs": [],
   "source": [
    "import re"
   ]
  },
  {
   "cell_type": "markdown",
   "metadata": {},
   "source": [
    "# Regular Expressions"
   ]
  },
  {
   "cell_type": "markdown",
   "metadata": {},
   "source": [
    "https://scotch.io/tutorials/an-introduction-to-regex-in-python"
   ]
  },
  {
   "cell_type": "markdown",
   "metadata": {},
   "source": [
    "## Special Sequences\n",
    "\n",
    "Special sequences are characters with a backslash `\\` character. \n",
    "\n",
    "For example:\n",
    "* `\\d`: matches one digit [0-9]\n",
    "* `\\w`: matches one alphanumeric character [a-zA-Z0-9]\n",
    "\n",
    "| Element | Description |\n",
    "| ------- | ----------- |\n",
    "| `.` | Any character except newline `\\n` |\n",
    "| `\\d` | Any digit [0-9] |\n",
    "| `\\D` | Any non-digit character [^0-9] |\n",
    "| `\\s` | Any whitespace character [\\t\\n\\r\\f\\v] |\n",
    "| `\\S` | Any non-whitespace character [^\\t\\n\\r\\f\\v] |\n",
    "| `\\w` | Any alphanumeric character [a-zA-Z0-9] |\n",
    "| `\\W` | Any non-alphanumeric character [^a-zA-Z0-9] |\n"
   ]
  },
  {
   "cell_type": "code",
   "execution_count": 6,
   "metadata": {},
   "outputs": [
    {
     "name": "stdout",
     "output_type": "stream",
     "text": [
      "r\n"
     ]
    }
   ],
   "source": [
    "pattern = re.compile(r'\\w')\n",
    "string = \"regex is cool i guess\"\n",
    "result = pattern.match(string) \n",
    "print(result.group())    "
   ]
  },
  {
   "cell_type": "markdown",
   "metadata": {},
   "source": [
    "Notes:\n",
    "* `match()` method returns a match _object_, or `None` if no match is found.\n",
    "* `group()` is a method belonging to the match object that returns an entire match. If no matches are found, it returns a `NoneType`"
   ]
  },
  {
   "cell_type": "markdown",
   "metadata": {},
   "source": [
    "## Quantifiers\n",
    "\n",
    "Quantifiers specify the number of special sequences to match.\n",
    "\n",
    "| Quantifier | Description |\n",
    "| ---------- | ----------- |\n",
    "| `+` | one or more |\n",
    "| `{n}` | exactly n times |\n",
    "| `{n,}` | n or more times |\n",
    "| `{n,m}` | n to m times |\n",
    "| `*` | 0 or more times\n",
    "| `?` | none or once |\n",
    "\n",
    "The `{}` brackets are _inclusive_!"
   ]
  },
  {
   "cell_type": "code",
   "execution_count": 7,
   "metadata": {},
   "outputs": [
    {
     "name": "stdout",
     "output_type": "stream",
     "text": [
      "regex\n"
     ]
    }
   ],
   "source": [
    "pattern = re.compile(r'\\w+')    # The + is a quantifier\n",
    "result = pattern.match(string)\n",
    "print(result.group())"
   ]
  },
  {
   "cell_type": "code",
   "execution_count": 9,
   "metadata": {},
   "outputs": [],
   "source": [
    "# Blank pattern\n",
    "pattern = re.compile(r'')"
   ]
  }
 ],
 "metadata": {
  "kernelspec": {
   "display_name": "Python 3",
   "language": "python",
   "name": "python3"
  },
  "language_info": {
   "codemirror_mode": {
    "name": "ipython",
    "version": 3
   },
   "file_extension": ".py",
   "mimetype": "text/x-python",
   "name": "python",
   "nbconvert_exporter": "python",
   "pygments_lexer": "ipython3",
   "version": "3.7.0"
  }
 },
 "nbformat": 4,
 "nbformat_minor": 2
}
