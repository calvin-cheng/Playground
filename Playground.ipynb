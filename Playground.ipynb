{
 "cells": [
  {
   "cell_type": "markdown",
   "metadata": {},
   "source": [
    "# Playground"
   ]
  },
  {
   "cell_type": "markdown",
   "metadata": {},
   "source": [
    "## Linked Lists"
   ]
  },
  {
   "cell_type": "code",
   "execution_count": 1,
   "metadata": {},
   "outputs": [],
   "source": [
    "# Linked list\n",
    "\n",
    "class Element():\n",
    "    def __init__(self, data):\n",
    "        self.data = data\n",
    "        self.next = None\n",
    "\n",
    "class LinkedList():\n",
    "    def __init__(self):\n",
    "        self.head = None\n",
    "    \n",
    "    def append(self, new_element):\n",
    "        if self.head:\n",
    "            current = self.head            \n",
    "            while current.next:\n",
    "                current = current.next\n",
    "            current.next = new_element\n",
    "        else:\n",
    "            self.head = new_element\n",
    "\n",
    "    def visualise(self):\n",
    "        \"\"\"Visualises linked list\"\"\"\n",
    "        \n",
    "        if self.head:\n",
    "            current = self.head\n",
    "            lst = [current.data]\n",
    "            while current.next:\n",
    "                current = current.next\n",
    "                lst.append(current.data)\n",
    "            print(lst)\n",
    "        else:\n",
    "            print('Linked list is empty!')\n",
    "            \n",
    "    def delete(self, element_data):\n",
    "        \"\"\"Deletes an element from Linked List defined by its data\"\"\"\n",
    "\n",
    "        if element_data == self.head.data:\n",
    "            self.head = self.head.next\n",
    "        else:\n",
    "            current = self.head\n",
    "            while current.next:\n",
    "                if current.next.data == element_data:\n",
    "                    current.next = current.next.next\n",
    "                else:\n",
    "                    current = current.next\n",
    "\n",
    "    "
   ]
  },
  {
   "cell_type": "code",
   "execution_count": 2,
   "metadata": {},
   "outputs": [
    {
     "name": "stdout",
     "output_type": "stream",
     "text": [
      "[1, 2]\n",
      "[1, 2, 4]\n"
     ]
    }
   ],
   "source": [
    "# Creating elements\n",
    "e1 = Element(1)\n",
    "e2 = Element(2)\n",
    "e3 = Element(3)\n",
    "e4 = Element(4)\n",
    "# Creating linked list\n",
    "ll = LinkedList()\n",
    "# Appending\n",
    "ll.append(e1)\n",
    "ll.append(e2)\n",
    "ll.visualise()\n",
    "# Deleting\n",
    "ll.append(e3)\n",
    "ll.append(e4)\n",
    "ll.delete(3)\n",
    "ll.visualise()\n"
   ]
  },
  {
   "cell_type": "markdown",
   "metadata": {},
   "source": [
    "## Sorting"
   ]
  },
  {
   "cell_type": "code",
   "execution_count": 3,
   "metadata": {},
   "outputs": [],
   "source": [
    "# Bubble Sort\n",
    "\n",
    "def bubbleSort(array):\n",
    "    \"\"\"Sorts array using bubble sort algorithm. O(n^2) time complexity.\"\"\"\n",
    "    \n",
    "    size = len(array)\n",
    "    isSorted = False\n",
    "    while not isSorted:\n",
    "        isSorted = True\n",
    "        for i in range(size-1):\n",
    "            if array[i] > array[i+1]:\n",
    "                temp = array[i+1]\n",
    "                array[i+1] = array[i]\n",
    "                array[i] = temp\n",
    "                isSorted = False\n",
    "        size -= 1"
   ]
  },
  {
   "cell_type": "code",
   "execution_count": 4,
   "metadata": {},
   "outputs": [
    {
     "name": "stdout",
     "output_type": "stream",
     "text": [
      "[0, 1, 2, 2, 2, 2, 3, 4, 4, 5, 5, 5, 7, 8, 9]\n"
     ]
    }
   ],
   "source": [
    "testArray = [5, 3, 4, 2, 1, 8, 2, 5, 7, 4, 2, 5, 9, 0, 2]\n",
    "bubbleSort(testArray)\n",
    "print(testArray)"
   ]
  },
  {
   "cell_type": "code",
   "execution_count": 5,
   "metadata": {},
   "outputs": [],
   "source": [
    "# Merge sort\n",
    "\n",
    "import math\n",
    "\n",
    "def mergeSort(array):\n",
    "    \"\"\"Sorts array using merge sort algorithm. O(n log(n)) time complexity.\"\"\"\n",
    "    \n",
    "    size = len(array)\n",
    "    if len(array) <= 1:\n",
    "        return array\n",
    "    else:\n",
    "        pivot = int(size / 2)\n",
    "        array1 = array[0:pivot]\n",
    "        array2 = array[pivot:]\n",
    "        \n",
    "        array1 = mergeSort(array1)    # Recursion\n",
    "        array2 = mergeSort(array2)\n",
    "        \n",
    "        result = []\n",
    "        i, j = 0, 0    # iterators\n",
    "        while len(result) < size:\n",
    "            if array1[i] < array2[j]:\n",
    "                result.append(array1[i])\n",
    "                i += 1\n",
    "            else:\n",
    "                result.append(array2[j])\n",
    "                j += 1\n",
    "                \n",
    "            if j >= len(array2):\n",
    "                result = result + array1[i:]\n",
    "            elif i >= len(array1):\n",
    "                result = result + array2[j:]\n",
    "                \n",
    "        return result\n"
   ]
  },
  {
   "cell_type": "code",
   "execution_count": 6,
   "metadata": {},
   "outputs": [
    {
     "name": "stdout",
     "output_type": "stream",
     "text": [
      "[0, 0, 1, 2, 3, 4, 6, 8]\n"
     ]
    }
   ],
   "source": [
    "testArray = [4, 2, 3, 1, 8, 6, 0, 0]\n",
    "sortedArray = mergeSort(testArray)\n",
    "print(sortedArray)"
   ]
  },
  {
   "cell_type": "code",
   "execution_count": 7,
   "metadata": {},
   "outputs": [],
   "source": [
    "# Quicksort\n",
    "\n",
    "def quickSort(array):\n",
    "    \"Sorts array using quicksort algorithm. O(n log(n)) time complexity.\"\n",
    "    \n",
    "    if len(array) <= 1:\n",
    "        return array\n",
    "    currentIdx = len(array) - 1\n",
    "    leftIdx = 0\n",
    "    while leftIdx < currentIdx:\n",
    "        if array[leftIdx] > array[currentIdx]:\n",
    "            temp1 = array[leftIdx]\n",
    "            temp2 = array[currentIdx-1]\n",
    "            array[leftIdx] = temp2\n",
    "            array[currentIdx-1] = array[currentIdx]\n",
    "            array[currentIdx] = temp1\n",
    "            currentIdx -= 1\n",
    "        else:\n",
    "            leftIdx += 1\n",
    "    leftArray = array[:leftIdx]\n",
    "    pivot = array[currentIdx]\n",
    "    rightArray = array[currentIdx+1:]\n",
    "    \n",
    "    leftArray = quickSort(leftArray)\n",
    "    rightArray = quickSort(rightArray)\n",
    "    \n",
    "    result = leftArray + [pivot] + rightArray\n",
    "    return result"
   ]
  },
  {
   "cell_type": "code",
   "execution_count": 8,
   "metadata": {},
   "outputs": [
    {
     "name": "stdout",
     "output_type": "stream",
     "text": [
      "[1, 3, 4, 6, 9, 14, 20, 21, 21, 25]\n"
     ]
    }
   ],
   "source": [
    "testArray = [21, 4, 1, 3, 9, 20, 25, 6, 21, 14]\n",
    "print(quickSort(testArray))"
   ]
  }
 ],
 "metadata": {
  "kernelspec": {
   "display_name": "Python 3",
   "language": "python",
   "name": "python3"
  },
  "language_info": {
   "codemirror_mode": {
    "name": "ipython",
    "version": 3
   },
   "file_extension": ".py",
   "mimetype": "text/x-python",
   "name": "python",
   "nbconvert_exporter": "python",
   "pygments_lexer": "ipython3",
   "version": "3.7.0"
  }
 },
 "nbformat": 4,
 "nbformat_minor": 2
}
