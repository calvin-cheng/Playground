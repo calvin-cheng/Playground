{
 "cells": [
  {
   "cell_type": "markdown",
   "metadata": {},
   "source": [
    "# Card Problem\n",
    "\n",
    "Consider a deck of cards of length $N$ represented by the set\n",
    "\n",
    "$$D = \\{C_1, C_2, ..., C_N\\},$$\n",
    "\n",
    "where $D$ is the deck and $C_i$ is a card of number $i$. The cards are then placed upon a table by repeating following procedure until the deck is empty:\n",
    "\n",
    "1. Move card from top of the deck to the table.\n",
    "2. Move card from top of the deck to the bottom of the deck.\n",
    "\n",
    "The goal therefore is to find a configuration of $D$ such that the cards are placed upon the table in an ascending order (i.e. from $i = 1$ to $i = N$)"
   ]
  },
  {
   "cell_type": "code",
   "execution_count": 1,
   "metadata": {},
   "outputs": [],
   "source": [
    "import math"
   ]
  },
  {
   "cell_type": "code",
   "execution_count": 2,
   "metadata": {},
   "outputs": [],
   "source": [
    "class Deque():\n",
    "    '''Deque data type (Front at LHS)'''\n",
    "    \n",
    "    def __init__(self):\n",
    "        self.items = []\n",
    "        \n",
    "    def __str__(self):\n",
    "        return str(self.items)\n",
    "    \n",
    "    def addBack(self, item):\n",
    "        self.items.append(item)\n",
    "    \n",
    "    def addFront(self, item):\n",
    "        self.items.insert(0, item)\n",
    "    \n",
    "    def popBack(self):\n",
    "        return self.items.pop()\n",
    "    \n",
    "    def popFront(self):\n",
    "        return self.items.pop(0)\n",
    "    \n",
    "    def isEmpty(self):\n",
    "        return self.items == []\n",
    "    \n",
    "    def length(self):\n",
    "        return len(self.items)\n",
    "    \n",
    "    def reverse(self):\n",
    "        self.items = self.items[::-1]"
   ]
  },
  {
   "cell_type": "code",
   "execution_count": 3,
   "metadata": {},
   "outputs": [],
   "source": [
    "def arrange(deck, tableFirst=True):\n",
    "    '''Takes final deck and returns original deck following unpack'''\n",
    "\n",
    "    # Base case for recursion\n",
    "    if deck.length() <= 1:\n",
    "        return deck\n",
    "    \n",
    "    # Split deck into two sub-decks: top and bottom half\n",
    "    deck1 = Deque()\n",
    "    deck2 = Deque()\n",
    "    if tableFirst:\n",
    "        half = math.ceil(deck.length() / 2)\n",
    "    else:\n",
    "        half = math.floor(deck.length() / 2)\n",
    "    for _ in range(half):\n",
    "        deck1.addBack(deck.popFront())\n",
    "    while not deck.isEmpty():\n",
    "        deck2.addBack(deck.popFront())\n",
    "\n",
    "    # If odd number of cards in deck, order of procedures is reversed\n",
    "    if deck1.length() == deck2.length():\n",
    "        deck2 = arrange(deck2, tableFirst)\n",
    "    else:\n",
    "        deck2 = arrange(deck2, not(tableFirst))\n",
    "    \n",
    "    # Merge two sub-decks back into main deck by alternating between each sub-deck \n",
    "    x = 1 if tableFirst else -1\n",
    "    while not (deck1.isEmpty() and deck2.isEmpty()):\n",
    "        if x == 1:\n",
    "            deck.addBack(deck1.popFront())\n",
    "        else:\n",
    "            deck.addBack(deck2.popFront())\n",
    "        x *= -1\n",
    "\n",
    "    return deck"
   ]
  },
  {
   "cell_type": "code",
   "execution_count": 4,
   "metadata": {},
   "outputs": [],
   "source": [
    "def workBackwards(deck):\n",
    "    \n",
    "    original = Deque()\n",
    "    \n",
    "    while not deck.isEmpty():\n",
    "        if not original.isEmpty():\n",
    "            original.addFront(original.popBack())\n",
    "        original.addFront(deck.popBack())\n",
    "    \n",
    "    return original"
   ]
  },
  {
   "cell_type": "code",
   "execution_count": 5,
   "metadata": {},
   "outputs": [],
   "source": [
    "def unpack(deck, tableFirst = True):\n",
    "    '''Places cards \"down\" based on the rules: one card down, one card to bottom'''\n",
    "    \n",
    "    table = []\n",
    "    \n",
    "    x = 1 if tableFirst else -1\n",
    "    while not deck.isEmpty():\n",
    "        if x == 1:\n",
    "            table.append(deck.popFront())\n",
    "        else:\n",
    "            deck.addBack(deck.popFront())\n",
    "        x *= -1\n",
    "            \n",
    "    return table"
   ]
  },
  {
   "cell_type": "code",
   "execution_count": 6,
   "metadata": {},
   "outputs": [
    {
     "name": "stdout",
     "output_type": "stream",
     "text": [
      "Number of Cards: 13\n",
      "Arranged: [1, 12, 2, 8, 3, 11, 4, 9, 5, 13, 6, 10, 7]\n",
      "Unpacked: [1, 2, 3, 4, 5, 6, 7, 8, 9, 10, 11, 12, 13]\n"
     ]
    }
   ],
   "source": [
    "NUM_CARDS = 13\n",
    "print('Number of Cards: {}'.format(NUM_CARDS))\n",
    "\n",
    "deck = Deque()\n",
    "for card in range(1, NUM_CARDS+1):\n",
    "    deck.addBack(card)\n",
    "\n",
    "deck = arrange(deck)\n",
    "print('Arranged: ' + str(deck))\n",
    "\n",
    "table = unpack(deck)\n",
    "print('Unpacked: ' + str(table))"
   ]
  },
  {
   "cell_type": "code",
   "execution_count": 7,
   "metadata": {},
   "outputs": [
    {
     "name": "stdout",
     "output_type": "stream",
     "text": [
      "Arranged: [1, 12, 2, 8, 3, 11, 4, 9, 5, 13, 6, 10, 7]\n",
      "Unpacked: [1, 2, 3, 4, 5, 6, 7, 8, 9, 10, 11, 12, 13]\n"
     ]
    }
   ],
   "source": [
    "deck2 = Deque()\n",
    "for card in range(1, NUM_CARDS+1):\n",
    "    deck2.addBack(card)\n",
    "    \n",
    "deck2 = workBackwards(deck2)\n",
    "print('Arranged: ' + str(deck2))\n",
    "\n",
    "table2 = unpack(deck2)\n",
    "print('Unpacked: ' + str(table2))"
   ]
  },
  {
   "cell_type": "code",
   "execution_count": 8,
   "metadata": {},
   "outputs": [
    {
     "name": "stdout",
     "output_type": "stream",
     "text": [
      "1000 out of 1000 correct (100.0%)\n"
     ]
    }
   ],
   "source": [
    "# Checking for errors\n",
    "MAX_CARDS = 1000\n",
    "numCorrect = [None for _ in range(MAX_CARDS)]\n",
    "\n",
    "for numCards in range(MAX_CARDS):\n",
    "    deck = Deque()\n",
    "    deck.items = list(range(1,numCards))\n",
    "    deck = arrange(deck)\n",
    "    table = unpack(deck)\n",
    "    numCorrect[numCards] = (table == list(range(1, numCards)))\n",
    "\n",
    "print('{} out of {} correct ({}%)'.format(numCorrect.count(True), \n",
    "                                          MAX_CARDS, \n",
    "                                          numCorrect.count(True)*100/MAX_CARDS))"
   ]
  },
  {
   "cell_type": "markdown",
   "metadata": {},
   "source": [
    "Checking if it's actually faster to do it recursively (it's not)"
   ]
  },
  {
   "cell_type": "code",
   "execution_count": 10,
   "metadata": {},
   "outputs": [
    {
     "data": {
      "image/png": "[encoded data removed]",
      "text/plain": [
       "<Figure size 432x288 with 1 Axes>"
      ]
     },
     "metadata": {
      "needs_background": "light"
     },
     "output_type": "display_data"
    }
   ],
   "source": [
    "import timeit\n",
    "from matplotlib import pyplot as plt\n",
    "\n",
    "MAX_CARDS = 4000\n",
    "rTimes = []\n",
    "wbTimes = []\n",
    "\n",
    "for numCards in range(0, MAX_CARDS, 20):\n",
    "    recursion_timer = timeit.Timer('arrange(d)', \n",
    "                                   'from __main__ import Deque, arrange; d = Deque(); d.items = list(range(1, {}))'.format(numCards))\n",
    "    rTime = recursion_timer.timeit(number=5)\n",
    "    rTimes.append(rTime)\n",
    "    \n",
    "    workBack_timer = timeit.Timer('workBackwards(d2)', \n",
    "                                   'from __main__ import Deque, workBackwards; d2 = Deque(); d2.items = list(range(1, {}))'.format(numCards))\n",
    "    wbTime = workBack_timer.timeit(number=5)\n",
    "    wbTimes.append(wbTime)\n",
    "    \n",
    "plt.plot(list(range(0,MAX_CARDS,20)), rTimes)\n",
    "plt.plot(list(range(0,MAX_CARDS,20)), wbTimes)\n",
    "plt.xlabel('Number of Cards')\n",
    "plt.ylabel('Computation Time (s)')\n",
    "plt.show()"
   ]
  }
 ],
 "metadata": {
  "kernelspec": {
   "display_name": "Python 3",
   "language": "python",
   "name": "python3"
  },
  "language_info": {
   "codemirror_mode": {
    "name": "ipython",
    "version": 3
   },
   "file_extension": ".py",
   "mimetype": "text/x-python",
   "name": "python",
   "nbconvert_exporter": "python",
   "pygments_lexer": "ipython3",
   "version": "3.7.0"
  }
 },
 "nbformat": 4,
 "nbformat_minor": 2
}
